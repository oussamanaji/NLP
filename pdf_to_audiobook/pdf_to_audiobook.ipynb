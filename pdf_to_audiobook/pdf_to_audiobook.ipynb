{
  "cells": [
    {
      "cell_type": "markdown",
      "source": [
        "# Creating an Audiobook from a PDF\n",
        "Author: Mohamed Oussama NAJI\n",
        "\n",
        "Date: March 27, 2024"
      ],
      "metadata": {
        "id": "w4WGdoS2HACm"
      },
      "id": "w4WGdoS2HACm"
    },
    {
      "cell_type": "markdown",
      "source": [
        "## Introduction\n",
        "\n",
        "This notebook demonstrates the process of creating an audiobook from a PDF file. It involves extracting text from the PDF, cleaning the text, converting the text into speech, saving the speech, and playing the speech. The task tests the ability to apply Text to Speech conversion and Extraction of Text from PDF files.\n"
      ],
      "metadata": {
        "id": "k8AsxwN2HFrj"
      },
      "id": "k8AsxwN2HFrj"
    },
    {
      "cell_type": "markdown",
      "id": "10d9be82",
      "metadata": {
        "id": "10d9be82"
      },
      "source": [
        "## Table of Contents\n",
        "1. [Extracting Text from PDF](#extracting-text-from-pdf)\n",
        "   - [Installing PyPDF2 Library](#installing-pypdf2)\n",
        "   - [Importing PyPDF2](#importing-pypdf2)\n",
        "   - [Extracting the Text](#extracting-text)\n",
        "   - [Printing the Extracted Text](#printing-extracted-text)\n",
        "2. [Converting Text into Speech](#converting-text-into-speech)\n",
        "   - [Installing gTTS Library](#installing-gtts)\n",
        "   - [Importing gTTS](#importing-gtts)\n",
        "   - [Initializing a Speaker Object](#initializing-speaker)\n",
        "   - [Converting the Text](#converting-text)\n",
        "   - [Saving the Audio](#saving-audio)\n",
        "3. [Conclusion](#conclusion)\n"
      ]
    },
    {
      "cell_type": "markdown",
      "source": [
        "## Extracting Text from PDF <a id=\"extracting-text-from-pdf\"></a>"
      ],
      "metadata": {
        "id": "gXkc_4E5HN7q"
      },
      "id": "gXkc_4E5HN7q"
    },
    {
      "cell_type": "markdown",
      "source": [
        "### Installing PyPDF2 Library <a id=\"installing-pypdf2\"></a>\n"
      ],
      "metadata": {
        "id": "ezhFh1mEHQ6u"
      },
      "id": "ezhFh1mEHQ6u"
    },
    {
      "cell_type": "code",
      "execution_count": null,
      "id": "01c3289b",
      "metadata": {
        "id": "01c3289b"
      },
      "outputs": [],
      "source": [
        "!pip install PyPDF2"
      ]
    },
    {
      "cell_type": "code",
      "execution_count": null,
      "id": "7ec7cc17",
      "metadata": {
        "id": "7ec7cc17"
      },
      "outputs": [],
      "source": [
        "import PyPDF2\n",
        "import requests"
      ]
    },
    {
      "cell_type": "markdown",
      "id": "ce27a547",
      "metadata": {
        "id": "ce27a547"
      },
      "source": [
        "### Importing PyPDF2 <a id=\"importing-pypdf2\"></a>\n",
        "\n",
        "\n"
      ]
    },
    {
      "cell_type": "code",
      "execution_count": null,
      "id": "849f1365",
      "metadata": {
        "id": "849f1365"
      },
      "outputs": [],
      "source": [
        "# Open the PDF file\n",
        "pdf = open('book.pdf', 'rb')"
      ]
    },
    {
      "cell_type": "markdown",
      "source": [
        "### Printing the Extracted Text <a id=\"printing-extracted-text\"></a>"
      ],
      "metadata": {
        "id": "nty6LMWBH6hV"
      },
      "id": "nty6LMWBH6hV"
    },
    {
      "cell_type": "code",
      "execution_count": null,
      "id": "b2329f40",
      "metadata": {
        "id": "b2329f40"
      },
      "outputs": [],
      "source": [
        "# Create a PDF file reader object\n",
        "pdf_reader = PyPDF2.PdfReader(pdf)\n",
        "\n",
        "# Get the number of pages in the PDF\n",
        "num_pages = len(pdf_reader.pages)\n",
        "\n",
        "# Loop through each page in the PDF\n",
        "for page_num in range(num_pages):\n",
        "    # Extract the text from the page\n",
        "    text = pdf_reader.pages[page_num].extract_text()\n",
        "    text = text.replace('\\n', ' ').strip()\n",
        "    # Print the extracted text\n",
        "    print(text)"
      ]
    },
    {
      "cell_type": "markdown",
      "id": "f119fe5c",
      "metadata": {
        "id": "f119fe5c"
      },
      "source": [
        "### Installing gTTS Library"
      ]
    },
    {
      "cell_type": "markdown",
      "id": "45177a4f",
      "metadata": {
        "id": "45177a4f"
      },
      "source": [
        "### Installing gTTS Library <a id=\"installing-gtts\"></a>\n"
      ]
    },
    {
      "cell_type": "code",
      "execution_count": null,
      "id": "795b4c0f",
      "metadata": {
        "id": "795b4c0f"
      },
      "outputs": [],
      "source": [
        "!pip install gTTS"
      ]
    },
    {
      "cell_type": "markdown",
      "source": [
        "### Importing gTTS <a id=\"importing-gtts\"></a>"
      ],
      "metadata": {
        "id": "VYVNIv5YIe6D"
      },
      "id": "VYVNIv5YIe6D"
    },
    {
      "cell_type": "code",
      "source": [
        "from gtts import gTTS"
      ],
      "metadata": {
        "id": "cXez2mipIjmI"
      },
      "id": "cXez2mipIjmI",
      "execution_count": null,
      "outputs": []
    },
    {
      "cell_type": "markdown",
      "source": [
        "### Initializing a Speaker Object <a id=\"initializing-speaker\"></a>"
      ],
      "metadata": {
        "id": "cffOBxy3Imy6"
      },
      "id": "cffOBxy3Imy6"
    },
    {
      "cell_type": "code",
      "execution_count": null,
      "id": "7a614264",
      "metadata": {
        "id": "7a614264"
      },
      "outputs": [],
      "source": [
        "# Initialize the speaker object (speech engine)\n",
        "speaker = gTTS(text)"
      ]
    },
    {
      "cell_type": "markdown",
      "source": [
        "### Converting the Text <a id=\"converting-text\"></a>"
      ],
      "metadata": {
        "id": "iSosJb8wIvyt"
      },
      "id": "iSosJb8wIvyt"
    },
    {
      "cell_type": "code",
      "execution_count": null,
      "id": "c1788a03",
      "metadata": {
        "id": "c1788a03"
      },
      "outputs": [],
      "source": [
        "# Convert text to speech\n",
        "speaker.text = text"
      ]
    },
    {
      "cell_type": "markdown",
      "source": [
        "### Saving the Audio <a id=\"saving-audio\"></a>"
      ],
      "metadata": {
        "id": "EQ0YSMHLIzSi"
      },
      "id": "EQ0YSMHLIzSi"
    },
    {
      "cell_type": "code",
      "execution_count": null,
      "id": "ea67d2fd",
      "metadata": {
        "id": "ea67d2fd"
      },
      "outputs": [],
      "source": [
        "# Save the audio to a file\n",
        "output_file = \"audiobook.mp3\"\n",
        "speaker.save(output_file)\n",
        "print(f\"Speech saved as {output_file}\")\n",
        "\n",
        "# Close the PDF file\n",
        "pdf.close()"
      ]
    },
    {
      "cell_type": "markdown",
      "id": "1bc66eb5",
      "metadata": {
        "id": "1bc66eb5"
      },
      "source": [
        "## Conclusion\n",
        "In this notebook, we successfully created an audiobook from a PDF file. The process involved the following steps:\n",
        "1. Extracting text from the PDF using the PyPDF2 library. We opened the PDF file, created a PDF reader object, and looped through each page to extract the text. The extracted text was cleaned by removing newline characters and extra whitespace.\n",
        "2. Converting the extracted text into speech using the gTTS (Google Text-to-Speech) library. We initialized a speaker object, set the text to be converted, and then saved the generated speech as an audio file in MP3 format.\n",
        "\n",
        "This notebook demonstrates the power of combining text extraction from PDFs with text-to-speech conversion to create audiobooks. It provides a convenient way to consume written content in an audio format, making it accessible to a wider audience. Further improvements can be made to enhance the audiobook creation process, such as:\n",
        "- Handling complex PDF layouts and extracting text more accurately.\n",
        "- Applying additional text cleaning and preprocessing techniques to improve the quality of the extracted text.\n",
        "- Customizing the speech synthesis parameters to achieve better audio quality and more natural-sounding speech.\n",
        "- Implementing a user-friendly interface for selecting PDF files and customizing audiobook settings.\n",
        "\n",
        "Overall, this notebook serves as a starting point for creating audiobooks from PDF files and can be extended and refined based on specific requirements and preferences."
      ]
    }
  ],
  "metadata": {
    "colab": {
      "provenance": []
    }
  },
  "nbformat": 4,
  "nbformat_minor": 5
}